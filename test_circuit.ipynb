{
 "cells": [
  {
   "cell_type": "code",
   "execution_count": 1,
   "id": "88f68364-f1ed-4bcd-a213-5badb4168efd",
   "metadata": {},
   "outputs": [],
   "source": [
    "import pennylane as qml\n",
    "import pennylane.numpy as np"
   ]
  },
  {
   "cell_type": "code",
   "execution_count": 2,
   "id": "12f61e32-a630-4874-b7d2-710acea76b9a",
   "metadata": {},
   "outputs": [],
   "source": [
    "from circuit import *"
   ]
  },
  {
   "cell_type": "code",
   "execution_count": null,
   "id": "f7705ff8",
   "metadata": {},
   "outputs": [],
   "source": [
    "import pennylane as qml\n",
    "from pennylane import numpy as np\n",
    "from circuit import *\n",
    "\n",
    "# Define the Hamiltonian\n",
    "H = hamiltonian()\n",
    "\n",
    "# Define the time step and number of time steps\n",
    "t = 1\n",
    "num_steps = 10\n",
    "\n",
    "# Define the initial state\n",
    "psi0 = np.array([1 / np.sqrt(2), 1 / np.sqrt(2)])\n",
    "\n",
    "# Define the quantum device to run the simulation on\n",
    "dev = qml.device(\"default.qubit\", wires=3)\n",
    "\n",
    "# Define the quantum circuit that implements the time evolution using Trotterization\n",
    "def circuit(params):\n",
    "    for i in range(num_steps):\n",
    "        qml.ApproxTimeEvolution(H, t , num_steps)\n",
    "    return qml.state()\n",
    "\n",
    "# Define the cost function to minimize\n",
    "def cost(params):\n",
    "    circuit(params)\n",
    "    return circuit(params)\n",
    "\n",
    "# Initialize the parameters for the quantum circuit\n",
    "params = np.random.normal(0, np.pi, size=(num_steps,))\n",
    "\n",
    "# Set the optimization hyperparameters\n",
    "opt = qml.GradientDescentOptimizer(stepsize=0.4)\n",
    "\n",
    "# Set interation num\n",
    "max_iterations = 100\n",
    "\n",
    "# initialize the param list\n",
    "params_list = []\n",
    "params_list.append(params)\n",
    "\n",
    "# Run the loop\n",
    "for n in range(max_iterations):\n",
    "    \n",
    "    params = opt.step(cost, params)\n",
    "    params_list.append(params)\n",
    "\n",
    "# Get the final state of the quantum system\n",
    "final_state = qml.math.exp(-1j * t * H) @ psi0\n",
    "\n",
    "# Compute the fidelity between the final state obtained from the quantum circuit and the exact final state\n",
    "fidelity = np.abs(final_state.conj().T @ qml.math.reshape(circuit(params), [2, 1])) ** 2\n",
    "\n",
    "print(\"The final state obtained from the quantum circuit is:\", circuit(params))\n",
    "print(\"The exact final state is:\", final_state)\n",
    "print(\"The fidelity between the two states is:\", fidelity)\n",
    "\n"
   ]
  },
  {
   "cell_type": "code",
   "execution_count": 3,
   "id": "ecd30b72-95f8-4d30-83ed-d5dc5cd7f4eb",
   "metadata": {},
   "outputs": [],
   "source": [
    "interface = 'autograd'"
   ]
  },
  {
   "cell_type": "code",
   "execution_count": 4,
   "id": "db78c73e-49bf-4420-9a9e-03854cdb7f45",
   "metadata": {},
   "outputs": [],
   "source": [
    "if interface == 'autograd':\n",
    "    import pennylane.numpy as np\n",
    "    dev = qml.device(\"default.qubit\", wires=range(3))\n",
    "    params = 0.05 * np.ones(18)\n",
    "\n",
    "elif interface == 'jax':\n",
    "    import jax\n",
    "    import jax.numpy as jnp\n",
    "    # next line raises TypeError with default.qubit.jax\n",
    "    # dev = qml.device(\"default.qubit.jax\", wires=range(3))\n",
    "    dev = qml.device(\"default.qubit\", wires=range(3))\n",
    "    params = jnp.array([0.05] * 18)\n",
    "elif interface == 'torch':\n",
    "    import torch\n",
    "    dev = qml.device(\"default.qubit\", wires=range(3))\n",
    "    params = torch.tensor([0.05] * 18, requires_grad=True)"
   ]
  },
  {
   "cell_type": "code",
   "execution_count": 5,
   "id": "2c078cf3-7549-47de-95ae-f955d9440b76",
   "metadata": {},
   "outputs": [],
   "source": [
    "@qml.qnode(dev, interface=interface)\n",
    "def three_spins_forward(params, delta_time, n=1):\n",
    "    three_spins_circuit(params)\n",
    "    qml.ApproxTimeEvolution(hamiltonian(), delta_time, n)\n",
    "    return qml.state()\n",
    "\n",
    "@qml.qnode(dev, interface=interface)\n",
    "def three_spins_current(params):\n",
    "    three_spins_circuit(params)\n",
    "    return qml.state()\n"
   ]
  },
  {
   "cell_type": "code",
   "execution_count": 6,
   "id": "24bbc7fc-3cb5-4dd6-a6ed-74a7479bef2d",
   "metadata": {},
   "outputs": [
    {
     "data": {
      "text/plain": [
       "0.9750155801310574"
      ]
     },
     "execution_count": 6,
     "metadata": {},
     "output_type": "execute_result"
    }
   ],
   "source": [
    "# test this works\n",
    "\n",
    "dt = 0.1\n",
    "original_state = three_spins_current(params)\n",
    "forward_state = three_spins_forward(params + 0.01, dt)\n",
    "\n",
    "qml.math.fidelity(original_state, forward_state)"
   ]
  },
  {
   "cell_type": "code",
   "execution_count": 8,
   "id": "ec9a90a2-42e5-45e4-b9fb-62113ec70849",
   "metadata": {},
   "outputs": [],
   "source": [
    "prev_params = params\n",
    "max_iterations = 50\n",
    "recorded_params = [params]\n",
    "\n",
    "def cost_function(params):\n",
    "    \n",
    "    dt = 0.1\n",
    "    original_state = three_spins_current(prev_params)\n",
    "    forward_state = three_spins_forward(params, dt)\n",
    "\n",
    "    fidelity = qml.math.fidelity(original_state, forward_state)\n",
    "    return 1 - fidelity\n",
    "\n",
    "\n",
    "recorded_costs = [cost_function(params)]\n"
   ]
  },
  {
   "cell_type": "code",
   "execution_count": 9,
   "id": "88db5fe1-3761-4a7b-9015-eb62747117ae",
   "metadata": {},
   "outputs": [
    {
     "data": {
      "text/plain": [
       "0.817558134797245"
      ]
     },
     "execution_count": 9,
     "metadata": {},
     "output_type": "execute_result"
    }
   ],
   "source": [
    "cost_function(np.random.random(18))"
   ]
  },
  {
   "cell_type": "code",
   "execution_count": 12,
   "id": "b4a7fa2b-784d-4b8f-af1b-0c18d333e959",
   "metadata": {},
   "outputs": [],
   "source": [
    "\n",
    "opt = qml.GradientDescentOptimizer(stepsize=0.2)\n",
    "\n",
    "\n",
    "for n in range(max_iterations):\n",
    "    params, prev_cost = opt.step_and_cost(cost_function, params)\n",
    "    \n",
    "    recorded_costs.append(cost_function(params))\n",
    "    recorded_params.append(params)\n",
    "    \n",
    "    if recorded_costs[-1] < 0.01:\n",
    "        break\n",
    "    "
   ]
  },
  {
   "cell_type": "code",
   "execution_count": 13,
   "id": "7d07a11d-a617-48b3-997f-743ef830abe4",
   "metadata": {},
   "outputs": [
    {
     "data": {
      "text/plain": [
       "[0.029201149605816323,\n",
       " 0.01904860310164902,\n",
       " 0.012354017689872765,\n",
       " 0.00798208495930064]"
      ]
     },
     "execution_count": 13,
     "metadata": {},
     "output_type": "execute_result"
    }
   ],
   "source": [
    "recorded_costs"
   ]
  },
  {
   "cell_type": "code",
   "execution_count": 14,
   "id": "9358cbc9-ae84-44c7-900c-61fa1def037b",
   "metadata": {},
   "outputs": [
    {
     "data": {
      "text/plain": [
       "[tensor([0.05, 0.05, 0.05, 0.05, 0.05, 0.05, 0.05, 0.05, 0.05, 0.05, 0.05,\n",
       "         0.05, 0.05, 0.05, 0.05, 0.05, 0.05, 0.05], requires_grad=True),\n",
       " tensor([0.06915227, 0.06870815, 0.06915341, 0.04961148, 0.04961135,\n",
       "         0.04843418, 0.04663894, 0.04843171, 0.04770792, 0.04770773,\n",
       "         0.06927037, 0.06932826, 0.06927175, 0.04762513, 0.04762483,\n",
       "         0.05038708, 0.05050325, 0.05038476], requires_grad=True),\n",
       " tensor([0.08470357, 0.08390771, 0.08470566, 0.04916232, 0.04916205,\n",
       "         0.04707891, 0.04377157, 0.04707443, 0.04579069, 0.04579035,\n",
       "         0.08492368, 0.08505018, 0.08492619, 0.0455935 , 0.04559291,\n",
       "         0.05055997, 0.05064761, 0.05055576], requires_grad=True),\n",
       " tensor([0.09726316, 0.09619314, 0.09726603, 0.04870496, 0.04870455,\n",
       "         0.04592033, 0.04135112, 0.04591423, 0.04420073, 0.04420025,\n",
       "         0.09757029, 0.09777132, 0.09757374, 0.04387037, 0.04386951,\n",
       "         0.05059725, 0.05057625, 0.05059151], requires_grad=True)]"
      ]
     },
     "execution_count": 14,
     "metadata": {},
     "output_type": "execute_result"
    }
   ],
   "source": [
    "recorded_params"
   ]
  },
  {
   "cell_type": "code",
   "execution_count": null,
   "id": "69cada99-f0fb-432c-b265-3f01a79c2371",
   "metadata": {},
   "outputs": [],
   "source": []
  }
 ],
 "metadata": {
  "kernelspec": {
   "display_name": "nb2",
   "language": "python",
   "name": "python3"
  },
  "language_info": {
   "codemirror_mode": {
    "name": "ipython",
    "version": 3
   },
   "file_extension": ".py",
   "mimetype": "text/x-python",
   "name": "python",
   "nbconvert_exporter": "python",
   "pygments_lexer": "ipython3",
   "version": "3.9.16"
  },
  "vscode": {
   "interpreter": {
    "hash": "5c9fdd1cddcc04dce6e0fefa7b2f5412e51490c5c9ff44e04a188701cdeb3da5"
   }
  }
 },
 "nbformat": 4,
 "nbformat_minor": 5
}
